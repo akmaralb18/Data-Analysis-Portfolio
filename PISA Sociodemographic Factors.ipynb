{
 "cells": [
  {
   "cell_type": "code",
   "execution_count": null,
   "id": "becfa234",
   "metadata": {},
   "outputs": [],
   "source": [
    "library(tidyverse)\n",
    "library(questionr)\n",
    "library(intsvy)\n",
    "library(haven)"
   ]
  },
  {
   "cell_type": "code",
   "execution_count": null,
   "id": "432eacf8",
   "metadata": {},
   "outputs": [],
   "source": [
    "stu <- read_sas(\"/Users/akmaral/Desktop/BDD/STU/cy07_msu_stu_qqq.sas7bdat\")\n",
    "sch <- read_sas(\"/Users/akmaral/Desktop/SCH/cy07_msu_sch_qqq.sas7bdat\")"
   ]
  },
  {
   "cell_type": "code",
   "execution_count": null,
   "id": "e3d278b9",
   "metadata": {},
   "outputs": [],
   "source": [
    "readcut2 <- c(480.18, 9999)\n",
    "kaz <- filter(stu, CNT == \"KAZ\")\n",
    "kaz_sch <- filter(sch, CNT == \"KAZ\")\n",
    "stu_sch <- merge(kaz, kaz_sch, by = \"CNTSCHID\")\n"
   ]
  },
  {
   "cell_type": "code",
   "execution_count": null,
   "id": "5d812f40",
   "metadata": {},
   "outputs": [],
   "source": [
    "# urban/rural\n",
    "stu_sch$SC001Q01TA <- factor(stu_sch$SC001Q01TA)\n",
    "stu_sch$SC001Q01TA <- fct_collapse(stu_sch$SC001Q01TA,\n",
    "                                   \"Urban area\"=c(\"5\" , \"4\"),\n",
    "                                   \"Rural area\"=c(\"3\", \"2\", \"1\"))\n",
    "\n",
    "\n",
    "# sex\n",
    "stu_sch$ST004D01T <- factor(stu_sch$ST004D01T)\n",
    "stu_sch$ST004D01T <- fct_collapse(stu_sch$ST004D01T,\n",
    "                              \"Female\"=\"1\",\n",
    "                              \"Male\"=\"2\")\n",
    "#mother\n",
    "stu_sch$ST005Q01TA <- factor(stu_sch$ST005Q01TA)\n",
    "stu_sch$ST005Q01TA <- fct_collapse(stu_sch$ST005Q01TA,\n",
    "                               \"No primary, just primary and middle\"=c(\"5\" , \"4\", \"3\"),\n",
    "                               \"College and 10-11\"=c( \"2\", \"1\"))\n",
    "#father\n",
    "stu_sch$ST007Q01TA <- factor(stu_sch$ST007Q01TA)\n",
    "stu_sch$ST007Q01TA <- fct_collapse(stu_sch$ST007Q01TA,\n",
    "                               \"No primary, just primary and middle\"=c(\"5\" , \"4\", \"3\"),\n",
    "                               \"College and 10-11\"=c(\"2\", \"1\"))\n",
    "# urban/rural\n",
    "stu_sch$SC001Q01TA <- factor(stu_sch$SC001Q01TA)\n",
    "stu_sch$SC001Q01TA <- fct_collapse(stu_sch$SC001Q01TA,\n",
    "                               \"Urban area\"=c(\"5\" , \"4\"),\n",
    "                               \"Rural area\"=c(\"3\", \"2\", \"1\"))"
   ]
  },
  {
   "cell_type": "code",
   "execution_count": null,
   "id": "72fce029",
   "metadata": {},
   "outputs": [],
   "source": []
  },
  {
   "cell_type": "code",
   "execution_count": null,
   "id": "2e25fae7",
   "metadata": {},
   "outputs": [],
   "source": []
  }
 ],
 "metadata": {
  "kernelspec": {
   "display_name": "R",
   "language": "R",
   "name": "ir"
  }
 },
 "nbformat": 4,
 "nbformat_minor": 5
}
